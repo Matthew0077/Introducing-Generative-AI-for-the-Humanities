{
  "nbformat": 4,
  "nbformat_minor": 0,
  "metadata": {
    "colab": {
      "provenance": [],
      "include_colab_link": true
    },
    "kernelspec": {
      "name": "python3",
      "display_name": "Python 3"
    },
    "language_info": {
      "name": "python"
    }
  },
  "cells": [
    {
      "cell_type": "markdown",
      "metadata": {
        "id": "view-in-github",
        "colab_type": "text"
      },
      "source": [
        "<a href=\"https://colab.research.google.com/github/Matthew0077/Introducing-Generative-AI-for-the-Humanities/blob/main/HW1.ipynb\" target=\"_parent\"><img src=\"https://colab.research.google.com/assets/colab-badge.svg\" alt=\"Open In Colab\"/></a>"
      ]
    },
    {
      "cell_type": "markdown",
      "source": [
        "# HW1_self_introduction\n",
        "\n",
        "## 作業要求\n",
        "1. 內容\n",
        "    1. 自我介紹\n",
        "    2. 修課動機\n",
        "    3. AI如何應用在你的專業領域\n",
        "        - 想用AI完成什麼樣的專案或研究\n",
        "        - 你覺得這門課會如何幫助你\n",
        "        - 附上相關實例或資料來源\n",
        "2. 使用至少 5 種 [Markdown語法](https://www.markdownguide.org/basic-syntax) (一種20分，共100分)\n",
        "3. 篇幅約 300 個中文字即可\n",
        "\n",
        "- - -"
      ],
      "metadata": {
        "id": "JPtn4Xl-hjzk"
      }
    },
    {
      "cell_type": "markdown",
      "source": [
        "## 以下開始寫作業"
      ],
      "metadata": {
        "id": "tRaEwLWLhpWv"
      }
    },
    {
      "cell_type": "markdown",
      "source": [
        "# 自我介紹與AI應用  \n",
        "\n",
        "##  自我介紹  \n",
        "大家好，我是黃肯，目前是**師大教育與輔導心理學碩士生**，對心理學、投資交易及數位行銷有濃厚興趣。平時喜歡研究**加密貨幣市場**、設計**交易策略**，並且經營一個專注於**恐怖故事**的YouTube頻道。  \n",
        "\n",
        "##  修課動機  \n",
        "我選修這門課的主要動機是希望能夠深入了解**人工智慧 (AI) 如何應用在心理學與交易市場中**，以及如何利用AI來提升研究與工作效率。我相信透過這門課程的學習，可以讓我掌握最新的技術並應用於不同領域。  \n",
        "\n",
        "##  AI 在我的專業領域應用  \n",
        "AI 在**教育心理學**與**交易市場**中具有廣泛應用，以下是一些具體的例子：  \n",
        "\n",
        "1. **教育心理學應用**  \n",
        "   - AI 輔助學習診斷，分析學生的學習行為與困難  \n",
        "   - NLP（自然語言處理）技術分析學生的學習筆記，提高閱讀理解能力  \n",
        "   - AI 自適應學習系統，根據學生表現調整教材難度  \n",
        "\n",
        "2. **交易市場應用**  \n",
        "   - **AI 交易機器人**：利用機器學習分析市場數據，實現自動化交易  \n",
        "   - **情緒分析**：透過 AI 分析社群媒體與新聞，預測市場情緒波動  \n",
        "   - **風險管理**：AI 演算法幫助識別投資風險，提高交易決策準確性  \n",
        "\n",
        "##  我想用AI完成的專案或研究  \n",
        "我希望能結合 AI 來開發一個***基於心理學的智能交易策略***，透過**情緒分析 + 技術指標 + 機器學習**來預測加密貨幣市場的走勢，並優化投資組合。此外，我也想嘗試將 AI 應用於**心理健康領域**，透過對話機器人來提供初步的心理支持。  \n",
        "\n",
        "##  這門課能帶來的幫助  \n",
        "- **學習 AI 基礎**，掌握如何訓練與應用 AI 模型  \n",
        "- **提升 Python 與數據分析能力**，應用於教育與金融市場  \n",
        "- **實作機會**，幫助我開發 AI 交易策略與心理健康應用  \n",
        "\n",
        "##  相關實例與資料來源  \n",
        "1. [AI 在教育心理學的應用 - ResearchGate](https://www.researchgate.net/)  \n",
        "2. [AI 在交易市場的影響 - Investopedia](https://www.investopedia.com/)  \n",
        "3. [自然語言處理 (NLP) 在金融與心理學中的應用](https://arxiv.org/)  \n",
        "\n"
      ],
      "metadata": {
        "id": "Kyj1Wzz6h2Af"
      }
    }
  ]
}