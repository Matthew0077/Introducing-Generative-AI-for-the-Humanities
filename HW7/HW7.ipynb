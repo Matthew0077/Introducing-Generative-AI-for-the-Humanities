{
  "nbformat": 4,
  "nbformat_minor": 0,
  "metadata": {
    "colab": {
      "provenance": []
    },
    "kernelspec": {
      "name": "python3",
      "display_name": "Python 3"
    },
    "language_info": {
      "name": "python"
    }
  },
  "cells": [
    {
      "cell_type": "markdown",
      "source": [
        "# HW7_語音模型"
      ],
      "metadata": {
        "id": "chNO93gjnhue"
      }
    },
    {
      "cell_type": "markdown",
      "source": [
        "## ✅ 任務一：語音轉文字 + 摘要（ASR + Summarization）(50%)\n",
        "\n",
        "### 📌 任務說明：\n",
        "1. 使用 Whisper 模型（建議：`openai/whisper-small`）將一段指定語音檔轉換成文字。\n",
        "2. 使用文字摘要模型（建議：`Pegasus` 或 `T5`）對轉錄後的文字進行自動摘要。\n",
        "\n",
        "---\n",
        "\n",
        "### 📤 作業繳交內容：\n",
        "\n",
        "#### 一、模型生成的文字內容\n",
        "\n",
        "#### 二、LLM 生成的摘要（限 1～3 句）\n",
        "\n",
        "#### 三、回答問題：\n",
        "\n",
        "- 你覺得語音轉文字的準確度如何？有哪些地方辨識得不夠好？可能原因是什麼？\n",
        "- 生成的摘要有抓到重點嗎？哪些地方可以改進？"
      ],
      "metadata": {
        "id": "mrnCW91tpoZa"
      }
    },
    {
      "cell_type": "markdown",
      "source": [
        "音檔連結\n",
        "https://drive.google.com/file/d/1V7MT56GThk0-ONClr_EFsi_Mo2jBHKXI/view?usp=drive_link"
      ],
      "metadata": {
        "id": "A3hrIRemxVAi"
      }
    },
    {
      "cell_type": "code",
      "source": [
        "%%capture install_logs\n",
        "!apt install ffmpeg\n",
        "!pip install autoawq ffmpeg wavio\n",
        "!pip install gradio\n",
        "!pip install f5-tts # https://github.com/SWivid/F5-TTS/tree/main"
      ],
      "metadata": {
        "id": "XMKcidNqRWIw"
      },
      "execution_count": null,
      "outputs": []
    },
    {
      "cell_type": "code",
      "source": [
        "# 1. 安裝必要套件\n",
        "!pip install gdown openai-whisper transformers sentencepiece --quiet"
      ],
      "metadata": {
        "id": "qCITLWFAgeDo",
        "colab": {
          "base_uri": "https://localhost:8080/"
        },
        "outputId": "8058ff76-ffe3-4048-f180-b57a0c6bfe13"
      },
      "execution_count": 6,
      "outputs": [
        {
          "output_type": "stream",
          "name": "stdout",
          "text": [
            "\u001b[?25l     \u001b[90m━━━━━━━━━━━━━━━━━━━━━━━━━━━━━━━━━━━━━━━━\u001b[0m \u001b[32m0.0/800.5 kB\u001b[0m \u001b[31m?\u001b[0m eta \u001b[36m-:--:--\u001b[0m\r\u001b[2K     \u001b[91m━━━━━━━━━\u001b[0m\u001b[91m╸\u001b[0m\u001b[90m━━━━━━━━━━━━━━━━━━━━━━━━━━━━━\u001b[0m \u001b[32m204.8/800.5 kB\u001b[0m \u001b[31m5.9 MB/s\u001b[0m eta \u001b[36m0:00:01\u001b[0m\r\u001b[2K     \u001b[91m━━━━━━━━━━━━━━━━━━━━━━━━━━━━━━━━━━━━━\u001b[0m\u001b[91m╸\u001b[0m \u001b[32m798.7/800.5 kB\u001b[0m \u001b[31m14.0 MB/s\u001b[0m eta \u001b[36m0:00:01\u001b[0m\r\u001b[2K     \u001b[90m━━━━━━━━━━━━━━━━━━━━━━━━━━━━━━━━━━━━━━\u001b[0m \u001b[32m800.5/800.5 kB\u001b[0m \u001b[31m10.4 MB/s\u001b[0m eta \u001b[36m0:00:00\u001b[0m\n",
            "\u001b[?25h  Installing build dependencies ... \u001b[?25l\u001b[?25hdone\n",
            "  Getting requirements to build wheel ... \u001b[?25l\u001b[?25hdone\n",
            "  Preparing metadata (pyproject.toml) ... \u001b[?25l\u001b[?25hdone\n",
            "  Building wheel for openai-whisper (pyproject.toml) ... \u001b[?25l\u001b[?25hdone\n"
          ]
        }
      ]
    },
    {
      "cell_type": "code",
      "source": [
        "# 2. 自動下載音檔\n",
        "!gdown 1V7MT56GThk0-ONClr_EFsi_Mo2jBHKXI -O hw7_lecture.m4a\n",
        "audio_path = \"hw7_lecture.m4a\"\n",
        "print(\"已下載：\", audio_path)"
      ],
      "metadata": {
        "colab": {
          "base_uri": "https://localhost:8080/"
        },
        "id": "N_tsI8Fqjm7I",
        "outputId": "3c65e5c5-182a-4c00-eaa6-59e66571706b"
      },
      "execution_count": 7,
      "outputs": [
        {
          "output_type": "stream",
          "name": "stdout",
          "text": [
            "Downloading...\n",
            "From: https://drive.google.com/uc?id=1V7MT56GThk0-ONClr_EFsi_Mo2jBHKXI\n",
            "To: /content/hw7_lecture.m4a\n",
            "\r  0% 0.00/533k [00:00<?, ?B/s]\r100% 533k/533k [00:00<00:00, 29.8MB/s]\n",
            "已下載： hw7_lecture.m4a\n"
          ]
        }
      ]
    },
    {
      "cell_type": "code",
      "source": [
        "# 3. Whisper ASR 轉錄\n",
        "import whisper\n",
        "asr_model = whisper.load_model(\"small\")\n",
        "result = asr_model.transcribe(audio_path, language=\"zh\")\n",
        "transcript = result[\"text\"]\n",
        "print(\"=== 轉錄結果 ===\")\n",
        "print(transcript)"
      ],
      "metadata": {
        "colab": {
          "base_uri": "https://localhost:8080/"
        },
        "id": "rNG5jlQUjuDI",
        "outputId": "28ec8095-0c9f-4805-fd52-cff2ce6e9d57"
      },
      "execution_count": 8,
      "outputs": [
        {
          "output_type": "stream",
          "name": "stderr",
          "text": [
            "100%|███████████████████████████████████████| 461M/461M [00:10<00:00, 44.1MiB/s]\n"
          ]
        },
        {
          "output_type": "stream",
          "name": "stdout",
          "text": [
            "=== 轉錄結果 ===\n",
            "語音處理有幾個應用或是幾個任務比較明顯就是第一個我們剛剛有看到的就是語音辨識這是一個很重要的一個任務就是直覺想很簡單就是一段聲音經過這個語音辨識系統還要能夠產生文字對不對 那我們剛剛講的時候它到底怎麼做的我們就要把那個聲音把它整個數位化然後再轉成Mayer平譜然後利用一個語音模型再把它整數文字來講到這個有一個Odacity整個我列在這邊也是推薦大家等一下如果你不知道有什麼就假設你是沒有特別的專業錄音的考量的話它算是一個處理錄製處理聲音蠻好的一個工具這個是一個免費可以使用的一個工具萬一待會你做練習的時候你想要當場錄製幾個同學的聲音但是不知道要怎麼樣錄比較好你可以考慮這個\n"
          ]
        }
      ]
    },
    {
      "cell_type": "code",
      "source": [
        "import openai\n",
        "\n",
        "openai.api_key = \"OpenAI\"\n",
        "prompt_summary = f\"\"\"\n",
        "以下是已經加上中文標點的轉錄內容，請幫我濃縮成 2 句重點摘要，並用中文完整標點：\n",
        "{punctuated}\n",
        "\"\"\"\n",
        "res2 = openai.chat.completions.create(\n",
        "    model=\"gpt-4o-mini\",\n",
        "    messages=[{\"role\": \"user\", \"content\": prompt_summary}]\n",
        ")\n",
        "summary = res2.choices[0].message.content.strip()\n",
        "print(\"=== 1–3 句重點摘要 ===\")\n",
        "print(summary)\n"
      ],
      "metadata": {
        "id": "t2HmK3X6oghk"
      },
      "execution_count": null,
      "outputs": []
    },
    {
      "cell_type": "markdown",
      "source": [
        "你覺得語音轉文字的準確度如何？有哪些地方辨識得不夠好？可能原因是什麼？\n",
        "生成的摘要有抓到重點嗎？哪些地方可以改進？\n",
        "\n",
        "1.\n",
        "「Mel spectrogram」被誤聽成「Mayer平譜」：專業術語沒在模型原始詞庫，加上中英夾雜，模型選了音近的拼法。\n",
        "「Audacity」被轉為「Odacity」：同樣是外文軟體名稱，缺乏背景知識導致誤判。\n",
        "缺少標點與段落邊界：整段是一條長句，沒有逗號、句號，難以分辨語句結構，影響閱讀和後續摘要。\n",
        "\n",
        "2.\n",
        "摘要示例成功提煉出：\n",
        "\n",
        "「數位化→梅爾頻譜→模型產出文字」的流程步驟；\n",
        "「Audacity」作為免費錄音前處理工具的推薦。可是還是沒有把專有名詞補齊。\n",
        "\n",
        "3.\n",
        "改進建議\n",
        "微調 ASR 詞庫：加入自訂whitelist（Mel spectrogram、Audacity），或後處理用正則自動校正。"
      ],
      "metadata": {
        "id": "2Kw9FBGdrsfd"
      }
    },
    {
      "cell_type": "markdown",
      "source": [
        "## 🎙️ 任務二：聲音克隆（Voice Cloning）（50%)\n",
        "\n",
        "### 📌 任務說明：\n",
        "請使用你自己的語音樣本進行「聲音克隆」，讓 AI 模仿你的聲音講出新的句子。\n",
        "\n",
        "#### 任務步驟：\n",
        "1. 錄製一段自己的語音樣本（5～10 秒，語句自由發揮）\n",
        "2. 選擇兩個不同的聲音克隆工具（例如：`Tortoise TTS`、`Coqui TTS`）\n",
        "3. 使用這兩個工具分別模仿你的聲音，讓 AI 說出你自訂的一段新句子  \n",
        "4. 比較兩種工具的效果\n",
        "\n",
        "---\n",
        "\n",
        "### 📤 作業繳交內容：\n",
        "\n",
        "#### 一、原始語音樣本（音檔）\n",
        "\n",
        "#### 二、兩個模型生成的模仿語音（音檔）\n",
        "\n",
        "#### 三、回答問題：\n",
        "\n",
        "- AI 合成的聲音和你的聲音有多像？\n",
        "- 這兩個模型有什麼差異？哪一個表現比較好？為什麼？\n",
        "- 哪些部分可以進一步改進？"
      ],
      "metadata": {
        "id": "-H6KyBpSqiK2"
      }
    },
    {
      "cell_type": "code",
      "source": [
        "%%capture install_logs\n",
        "!apt install ffmpeg\n",
        "!pip install autoawq ffmpeg wavio\n",
        "!pip install gradio\n",
        "!pip install f5-tts # https://github.com/SWivid/F5-TTS/tree/main"
      ],
      "metadata": {
        "id": "qZrS-M0LRShC"
      },
      "execution_count": null,
      "outputs": []
    },
    {
      "cell_type": "code",
      "source": [
        "!f5-tts_infer-gradio --share # 啟動 Gradio 介面"
      ],
      "metadata": {
        "id": "6skdvQmzXQu2"
      },
      "execution_count": null,
      "outputs": []
    },
    {
      "cell_type": "code",
      "source": [
        "# 安裝 Tortoise TTS 及相依套件（Colab 建議用 GPU）\n",
        "!pip install git+https://github.com/neonbjb/tortoise-tts.git\n",
        "!pip install einops==0.6.0\n",
        "!pip install transformers==4.29.2"
      ],
      "metadata": {
        "id": "7YuVe3HhXx7w"
      },
      "execution_count": null,
      "outputs": []
    },
    {
      "cell_type": "code",
      "source": [
        "!git clone https://github.com/neonbjb/tortoise-tts.git\n",
        "!pip install ./tortoise-tts\n",
        "!pip install einops==0.6.0\n",
        "!pip install transformers==4.29.2\n",
        "\n",
        "# 下載 tokenizer\n",
        "!wget -O tortoise-tts/tortoise/data/tokenizer.json https://huggingface.co/neonbjb/tortoise-tts/resolve/main/tokenizer.json"
      ],
      "metadata": {
        "id": "JC5C-kjSakkf"
      },
      "execution_count": null,
      "outputs": []
    },
    {
      "cell_type": "code",
      "source": [
        "import os\n",
        "os.chdir('tortoise-tts')"
      ],
      "metadata": {
        "id": "wzEpsIvjavU8"
      },
      "execution_count": 3,
      "outputs": []
    },
    {
      "cell_type": "code",
      "source": [
        "from google.colab import files\n",
        "uploaded = files.upload()\n",
        "# 上傳你錄的 .wav 檔，my_sample.wav"
      ],
      "metadata": {
        "colab": {
          "base_uri": "https://localhost:8080/",
          "height": 77
        },
        "id": "HEUC0duWX0ie",
        "outputId": "f00e704c-fc16-43f4-9f2e-d131d4baf59b"
      },
      "execution_count": 4,
      "outputs": [
        {
          "output_type": "display_data",
          "data": {
            "text/plain": [
              "<IPython.core.display.HTML object>"
            ],
            "text/html": [
              "\n",
              "     <input type=\"file\" id=\"files-06f117d0-905a-40b4-be25-d243a3d4cefa\" name=\"files[]\" multiple disabled\n",
              "        style=\"border:none\" />\n",
              "     <output id=\"result-06f117d0-905a-40b4-be25-d243a3d4cefa\">\n",
              "      Upload widget is only available when the cell has been executed in the\n",
              "      current browser session. Please rerun this cell to enable.\n",
              "      </output>\n",
              "      <script>// Copyright 2017 Google LLC\n",
              "//\n",
              "// Licensed under the Apache License, Version 2.0 (the \"License\");\n",
              "// you may not use this file except in compliance with the License.\n",
              "// You may obtain a copy of the License at\n",
              "//\n",
              "//      http://www.apache.org/licenses/LICENSE-2.0\n",
              "//\n",
              "// Unless required by applicable law or agreed to in writing, software\n",
              "// distributed under the License is distributed on an \"AS IS\" BASIS,\n",
              "// WITHOUT WARRANTIES OR CONDITIONS OF ANY KIND, either express or implied.\n",
              "// See the License for the specific language governing permissions and\n",
              "// limitations under the License.\n",
              "\n",
              "/**\n",
              " * @fileoverview Helpers for google.colab Python module.\n",
              " */\n",
              "(function(scope) {\n",
              "function span(text, styleAttributes = {}) {\n",
              "  const element = document.createElement('span');\n",
              "  element.textContent = text;\n",
              "  for (const key of Object.keys(styleAttributes)) {\n",
              "    element.style[key] = styleAttributes[key];\n",
              "  }\n",
              "  return element;\n",
              "}\n",
              "\n",
              "// Max number of bytes which will be uploaded at a time.\n",
              "const MAX_PAYLOAD_SIZE = 100 * 1024;\n",
              "\n",
              "function _uploadFiles(inputId, outputId) {\n",
              "  const steps = uploadFilesStep(inputId, outputId);\n",
              "  const outputElement = document.getElementById(outputId);\n",
              "  // Cache steps on the outputElement to make it available for the next call\n",
              "  // to uploadFilesContinue from Python.\n",
              "  outputElement.steps = steps;\n",
              "\n",
              "  return _uploadFilesContinue(outputId);\n",
              "}\n",
              "\n",
              "// This is roughly an async generator (not supported in the browser yet),\n",
              "// where there are multiple asynchronous steps and the Python side is going\n",
              "// to poll for completion of each step.\n",
              "// This uses a Promise to block the python side on completion of each step,\n",
              "// then passes the result of the previous step as the input to the next step.\n",
              "function _uploadFilesContinue(outputId) {\n",
              "  const outputElement = document.getElementById(outputId);\n",
              "  const steps = outputElement.steps;\n",
              "\n",
              "  const next = steps.next(outputElement.lastPromiseValue);\n",
              "  return Promise.resolve(next.value.promise).then((value) => {\n",
              "    // Cache the last promise value to make it available to the next\n",
              "    // step of the generator.\n",
              "    outputElement.lastPromiseValue = value;\n",
              "    return next.value.response;\n",
              "  });\n",
              "}\n",
              "\n",
              "/**\n",
              " * Generator function which is called between each async step of the upload\n",
              " * process.\n",
              " * @param {string} inputId Element ID of the input file picker element.\n",
              " * @param {string} outputId Element ID of the output display.\n",
              " * @return {!Iterable<!Object>} Iterable of next steps.\n",
              " */\n",
              "function* uploadFilesStep(inputId, outputId) {\n",
              "  const inputElement = document.getElementById(inputId);\n",
              "  inputElement.disabled = false;\n",
              "\n",
              "  const outputElement = document.getElementById(outputId);\n",
              "  outputElement.innerHTML = '';\n",
              "\n",
              "  const pickedPromise = new Promise((resolve) => {\n",
              "    inputElement.addEventListener('change', (e) => {\n",
              "      resolve(e.target.files);\n",
              "    });\n",
              "  });\n",
              "\n",
              "  const cancel = document.createElement('button');\n",
              "  inputElement.parentElement.appendChild(cancel);\n",
              "  cancel.textContent = 'Cancel upload';\n",
              "  const cancelPromise = new Promise((resolve) => {\n",
              "    cancel.onclick = () => {\n",
              "      resolve(null);\n",
              "    };\n",
              "  });\n",
              "\n",
              "  // Wait for the user to pick the files.\n",
              "  const files = yield {\n",
              "    promise: Promise.race([pickedPromise, cancelPromise]),\n",
              "    response: {\n",
              "      action: 'starting',\n",
              "    }\n",
              "  };\n",
              "\n",
              "  cancel.remove();\n",
              "\n",
              "  // Disable the input element since further picks are not allowed.\n",
              "  inputElement.disabled = true;\n",
              "\n",
              "  if (!files) {\n",
              "    return {\n",
              "      response: {\n",
              "        action: 'complete',\n",
              "      }\n",
              "    };\n",
              "  }\n",
              "\n",
              "  for (const file of files) {\n",
              "    const li = document.createElement('li');\n",
              "    li.append(span(file.name, {fontWeight: 'bold'}));\n",
              "    li.append(span(\n",
              "        `(${file.type || 'n/a'}) - ${file.size} bytes, ` +\n",
              "        `last modified: ${\n",
              "            file.lastModifiedDate ? file.lastModifiedDate.toLocaleDateString() :\n",
              "                                    'n/a'} - `));\n",
              "    const percent = span('0% done');\n",
              "    li.appendChild(percent);\n",
              "\n",
              "    outputElement.appendChild(li);\n",
              "\n",
              "    const fileDataPromise = new Promise((resolve) => {\n",
              "      const reader = new FileReader();\n",
              "      reader.onload = (e) => {\n",
              "        resolve(e.target.result);\n",
              "      };\n",
              "      reader.readAsArrayBuffer(file);\n",
              "    });\n",
              "    // Wait for the data to be ready.\n",
              "    let fileData = yield {\n",
              "      promise: fileDataPromise,\n",
              "      response: {\n",
              "        action: 'continue',\n",
              "      }\n",
              "    };\n",
              "\n",
              "    // Use a chunked sending to avoid message size limits. See b/62115660.\n",
              "    let position = 0;\n",
              "    do {\n",
              "      const length = Math.min(fileData.byteLength - position, MAX_PAYLOAD_SIZE);\n",
              "      const chunk = new Uint8Array(fileData, position, length);\n",
              "      position += length;\n",
              "\n",
              "      const base64 = btoa(String.fromCharCode.apply(null, chunk));\n",
              "      yield {\n",
              "        response: {\n",
              "          action: 'append',\n",
              "          file: file.name,\n",
              "          data: base64,\n",
              "        },\n",
              "      };\n",
              "\n",
              "      let percentDone = fileData.byteLength === 0 ?\n",
              "          100 :\n",
              "          Math.round((position / fileData.byteLength) * 100);\n",
              "      percent.textContent = `${percentDone}% done`;\n",
              "\n",
              "    } while (position < fileData.byteLength);\n",
              "  }\n",
              "\n",
              "  // All done.\n",
              "  yield {\n",
              "    response: {\n",
              "      action: 'complete',\n",
              "    }\n",
              "  };\n",
              "}\n",
              "\n",
              "scope.google = scope.google || {};\n",
              "scope.google.colab = scope.google.colab || {};\n",
              "scope.google.colab._files = {\n",
              "  _uploadFiles,\n",
              "  _uploadFilesContinue,\n",
              "};\n",
              "})(self);\n",
              "</script> "
            ]
          },
          "metadata": {}
        },
        {
          "output_type": "stream",
          "name": "stdout",
          "text": [
            "Saving my_sample.wav.wav to my_sample.wav.wav\n"
          ]
        }
      ]
    },
    {
      "cell_type": "code",
      "source": [
        "import os\n",
        "import torch\n",
        "from tortoise.api import TextToSpeech\n",
        "from tortoise.utils.audio import load_voice\n",
        "\n",
        "# 設定運算裝置\n",
        "device = 'cuda' if torch.cuda.is_available() else 'cpu'\n",
        "\n",
        "# 初始化 Tortoise TTS\n",
        "tts = TextToSpeech(\n",
        "    use_deepspeed=False,\n",
        "    autoregressive_batch_size=1,\n",
        "    diffusion_iterations=20,\n",
        "    half=False\n",
        ")\n",
        "\n",
        "# 輸入你的語音樣本檔名\n",
        "voice_samples = load_voice('my_sample.wav')   # 檔名依你上傳的為準\n",
        "\n",
        "# 你要讓 AI 說的句子\n",
        "sentence = \"未來是屬於懂 AI 的人，我已經開始行動了。\"\n",
        "\n",
        "# 合成語音\n",
        "gen = tts.tts_with_preset(\n",
        "    sentence,\n",
        "    voice_samples=voice_samples,\n",
        "    preset='fast'  # 可選 'fast' 或 'standard'\n",
        ")\n",
        "\n",
        "# 輸出音檔\n",
        "from scipy.io.wavfile import write as write_wav\n",
        "write_wav('tortoise_output.wav', 24000, gen.squeeze().cpu().numpy())\n",
        "print(\"合成完成，檔案：tortoise_output.wav\")\n"
      ],
      "metadata": {
        "id": "S6BMMVJpX37R"
      },
      "execution_count": null,
      "outputs": []
    },
    {
      "cell_type": "code",
      "source": [
        "from google.colab import files\n",
        "files.download('tortoise_output.wav')\n"
      ],
      "metadata": {
        "id": "odxxdz6JX6HF"
      },
      "execution_count": null,
      "outputs": []
    },
    {
      "cell_type": "code",
      "source": [
        "# 1. 初始化 Tortoise TTS\n",
        "from tortoise.api import TextToSpeech\n",
        "from tortoise.utils.audio import load_audio\n",
        "tts = TextToSpeech()\n",
        "\n",
        "# 2. 載入你的聲音樣本\n",
        "voice_samples = [load_audio('my_sample.wav', 22050)]  # 檔名對應你上傳的\n",
        "\n",
        "# 3. 輸入你要讓 AI 講的句子\n",
        "sentence = \"未來是屬於懂 AI 的人，我已經開始行動了。\"\n",
        "\n",
        "# 4. 合成語音\n",
        "gen = tts.tts_with_preset(\n",
        "    sentence,\n",
        "    voice_samples=voice_samples,\n",
        "    conditioning_latents=None,\n",
        "    preset='fast'\n",
        ")\n",
        "\n",
        "# 5. 儲存音檔\n",
        "from scipy.io.wavfile import write as write_wav\n",
        "write_wav('tortoise_output.wav', 24000, gen.squeeze().cpu().numpy())\n",
        "print(\"合成完成，檔案：tortoise_output.wav\")\n"
      ],
      "metadata": {
        "id": "w7yesaJuZ81g"
      },
      "execution_count": null,
      "outputs": []
    }
  ]
}