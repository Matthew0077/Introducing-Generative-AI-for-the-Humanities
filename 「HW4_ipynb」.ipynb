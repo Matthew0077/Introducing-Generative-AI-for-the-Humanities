{
  "nbformat": 4,
  "nbformat_minor": 0,
  "metadata": {
    "colab": {
      "provenance": [],
      "include_colab_link": true
    },
    "kernelspec": {
      "name": "python3",
      "display_name": "Python 3"
    },
    "language_info": {
      "name": "python"
    }
  },
  "cells": [
    {
      "cell_type": "markdown",
      "metadata": {
        "id": "view-in-github",
        "colab_type": "text"
      },
      "source": [
        "<a href=\"https://colab.research.google.com/github/Matthew0077/Introducing-Generative-AI-for-the-Humanities/blob/main/%E3%80%8CHW4_ipynb%E3%80%8D%E7%9A%84%E5%89%AF%E6%9C%AC.ipynb\" target=\"_parent\"><img src=\"https://colab.research.google.com/assets/colab-badge.svg\" alt=\"Open In Colab\"/></a>"
      ]
    },
    {
      "cell_type": "markdown",
      "source": [
        "# HW4_程式練習 (II)"
      ],
      "metadata": {
        "id": "bQ6YkMLxXGQt"
      }
    },
    {
      "cell_type": "code",
      "source": [
        "%matplotlib inline\n",
        "\n",
        "import numpy as np\n",
        "import pandas as pd\n",
        "import matplotlib.pyplot as plt\n",
        "import seaborn as sns\n",
        "import plotly.express as px\n",
        "import plotly.graph_objects as go"
      ],
      "metadata": {
        "id": "2icTpkOm2aHg"
      },
      "execution_count": 1,
      "outputs": []
    },
    {
      "cell_type": "markdown",
      "source": [
        "## 題目一 (25%)\n",
        "\n",
        "\n",
        "以下有一個 list：\n",
        "\n",
        "```\n",
        "numbers = [51, 30, 78, 20, 96, 40, 62]\n",
        "```\n",
        "\n",
        "### 任務內容\n",
        "1. 印出該 list 中的第 1 個數字、第 3 個數字與最後一個數字。\n",
        "2. 印出 list 中的最大值與最小值。\n",
        "3. 將 list 中的數字由小到大排序後印出。\n",
        "4. 計算並印出總和與平均值（平均值保留到小數點第 2 位）。\n",
        "5. 將大於等於 50 的數字存入新的 list，並印出此 list。\n",
        "\n",
        "\n"
      ],
      "metadata": {
        "id": "kXpZGNHGXhs1"
      }
    },
    {
      "cell_type": "code",
      "source": [
        "numbers = [51, 30, 78, 20, 96, 40, 62]\n",
        "\n",
        "print(\"第 1 個數字：\", numbers[0])\n",
        "print(\"第 3 個數字：\", numbers[2])\n",
        "print(\"最後一個數字：\", numbers[-1])\n",
        "\n",
        "print(\"最大值：\", max(numbers))\n",
        "print(\"最小值：\", min(numbers))\n",
        "\n",
        "sorted_numbers = sorted(numbers)\n",
        "print(\"排序後的 list：\", sorted_numbers)\n",
        "\n",
        "total = sum(numbers)\n",
        "average = round(total / len(numbers), 2)\n",
        "print(\"總和：\", total)\n",
        "print(\"平均值：\", average)\n",
        "\n",
        "filtered_numbers = [num for num in numbers if num >= 50]\n",
        "print(\"大於等於 50 的數字：\", filtered_numbers)"
      ],
      "metadata": {
        "colab": {
          "base_uri": "https://localhost:8080/"
        },
        "id": "UaD3cW2OTz1F",
        "outputId": "ea4bf917-5a21-4298-a1ea-d3db7ca3c510"
      },
      "execution_count": 3,
      "outputs": [
        {
          "output_type": "stream",
          "name": "stdout",
          "text": [
            "第 1 個數字： 51\n",
            "第 3 個數字： 78\n",
            "最後一個數字： 62\n",
            "最大值： 96\n",
            "最小值： 20\n",
            "排序後的 list： [20, 30, 40, 51, 62, 78, 96]\n",
            "總和： 377\n",
            "平均值： 53.86\n",
            "大於等於 50 的數字： [51, 78, 96, 62]\n"
          ]
        }
      ]
    },
    {
      "cell_type": "code",
      "execution_count": null,
      "metadata": {
        "id": "zSvt9ox6WwQe"
      },
      "outputs": [],
      "source": []
    },
    {
      "cell_type": "markdown",
      "source": [
        "## 題目二 (25%)\n",
        "\n",
        "以下為一個包含亞洲國家及其首都的字典，但其中有一些錯誤資訊：\n",
        "\n",
        "```\n",
        "asian_countries = {\n",
        "    'Taiwan': 'Taipei',\n",
        "    'Japan': 'Tokyo',\n",
        "    'South Korea': 'Seoul',\n",
        "    'Myanmar': 'Yangon',\n",
        "    'Germany': 'Berlin'\n",
        "    }\n",
        "```\n",
        "\n",
        "### 任務內容\n",
        "1. 將 `asian_countries` 印出來：\n",
        "```\n",
        "print('舊字典:', asian_countries)\n",
        "```\n",
        "2.  更新 `asian_countries`：\n",
        "    - 將 Myanmar 的首都更正為 Naypyidaw\n",
        "    - 將 Germany 從字典中移除\n",
        "    - 將 Thailand 及其首都 Bangkok 新增到字典中\n",
        "\n",
        "  ```\n",
        "  print('新字典:', asian_countries)\n",
        "  ```\n",
        "3. 將國家按照字母排序，並將排序後的結果指派給一個變數 `sorted_asian_countries` 。\n",
        "  ```\n",
        "  print('排序後新字典:', sorted_asian_countries)\n",
        "  ```"
      ],
      "metadata": {
        "id": "jbgV6MGtXidj"
      }
    },
    {
      "cell_type": "code",
      "source": [
        "# 原始字典\n",
        "asian_countries = {\n",
        "    'Taiwan': 'Taipei',\n",
        "    'Japan': 'Tokyo',\n",
        "    'South Korea': 'Seoul',\n",
        "    'Myanmar': 'Yangon',\n",
        "    'Germany': 'Berlin'\n",
        "}\n",
        "\n",
        "# 印出舊字典\n",
        "print('舊字典:', asian_countries)\n",
        "# 更新內容\n",
        "asian_countries['Myanmar'] = 'Naypyidaw'      # 更正首都\n",
        "asian_countries.pop('Germany', None)          # 移除 Germany\n",
        "asian_countries['Thailand'] = 'Bangkok'       # 新增 Thailand\n",
        "\n",
        "# 印出更新後的字典\n",
        "print('新字典:', asian_countries)\n",
        "\n",
        "# 將國家名稱排序，並建立新排序後的字典\n",
        "sorted_asian_countries = dict(sorted(asian_countries.items()))\n",
        "\n",
        "# 印出排序後的新字典\n",
        "print('排序後新字典:', sorted_asian_countries)"
      ],
      "metadata": {
        "colab": {
          "base_uri": "https://localhost:8080/"
        },
        "id": "2bZUQC5aUBln",
        "outputId": "719666c5-c32f-4b61-9712-a1c2edcbcacd"
      },
      "execution_count": null,
      "outputs": [
        {
          "output_type": "stream",
          "name": "stdout",
          "text": [
            "舊字典: {'Taiwan': 'Taipei', 'Japan': 'Tokyo', 'South Korea': 'Seoul', 'Myanmar': 'Yangon', 'Germany': 'Berlin'}\n",
            "新字典: {'Taiwan': 'Taipei', 'Japan': 'Tokyo', 'South Korea': 'Seoul', 'Myanmar': 'Naypyidaw', 'Thailand': 'Bangkok'}\n",
            "排序後新字典: {'Japan': 'Tokyo', 'Myanmar': 'Naypyidaw', 'South Korea': 'Seoul', 'Taiwan': 'Taipei', 'Thailand': 'Bangkok'}\n"
          ]
        }
      ]
    },
    {
      "cell_type": "code",
      "source": [],
      "metadata": {
        "id": "Tq6zcAohXi6P"
      },
      "execution_count": null,
      "outputs": []
    },
    {
      "cell_type": "markdown",
      "source": [
        "## 題目三 (25%)\n",
        "\n",
        "班上有 4 位學生，他們分別有 3 科的考試成績，資料如下：\n",
        "\n",
        "```python\n",
        "scores = {\n",
        "    \"Linda\": [85, 90, 78],\n",
        "    \"Richard\": [72, 88, 91],\n",
        "    \"Una\": [90, 85, 87],\n",
        "    \"Brian\": [60, 75, 70]\n",
        "}\n",
        "```\n",
        "\n",
        "### 任務內容\n",
        "1. 計算每位學生的平均分數。\n",
        "2. 根據平均分數，判斷每位學生的成績評語：\n",
        "  - 平均分數 ≥ 85，評語為「優秀」\n",
        "  - 平均分數 ≥ 70 且 < 85，評語為「及格」\n",
        "  - 平均分數 < 70，評語為「需加強」\n",
        "\n",
        "3. 請印出每位學生的「平均分數」與「評語」。\n",
        "4. 額外統計：\n",
        "  - 計算全班的「總平均分數」。\n",
        "  - 找出「平均分數最高的學生」並印出其姓名與平均分數。\n",
        "\n",
        "\n"
      ],
      "metadata": {
        "id": "Hx3rNLDcZ-wy"
      }
    },
    {
      "cell_type": "code",
      "source": [
        "scores = {\n",
        "    \"Linda\": [85, 90, 78],\n",
        "    \"Richard\": [72, 88, 91],\n",
        "    \"Una\": [90, 85, 87],\n",
        "    \"Brian\": [60, 75, 70]\n",
        "}\n",
        "\n",
        "# 儲存每位學生的平均分與評語\n",
        "student_avg = {}\n",
        "student_comments = {}\n",
        "\n",
        "for name, score_list in scores.items():\n",
        "    avg = sum(score_list) / len(score_list)\n",
        "    student_avg[name] = avg\n",
        "\n",
        "    # 判斷評語\n",
        "    if avg >= 85:\n",
        "        comment = \"優秀\"\n",
        "    elif avg >= 70:\n",
        "        comment = \"及格\"\n",
        "    else:\n",
        "        comment = \"需加強\"\n",
        "\n",
        "    student_comments[name] = comment\n",
        "    print(f\"{name} 的平均分數為 {avg:.2f}，評語為「{comment}」\")\n",
        "\n",
        "# 計算全班總平均\n",
        "class_avg = sum(student_avg.values()) / len(student_avg)\n",
        "print(f\"\\n全班總平均分數為：{class_avg:.2f}\")\n",
        "\n",
        "# 找出最高平均分的學生\n",
        "top_student = max(student_avg, key=student_avg.get)\n",
        "print(f\"平均分數最高的學生是 {top_student}，平均為 {student_avg[top_student]:.2f}\")"
      ],
      "metadata": {
        "id": "bOx8kovoZ-_V",
        "colab": {
          "base_uri": "https://localhost:8080/"
        },
        "outputId": "0e2a75bd-0fbe-47cc-9f36-54105468aac7"
      },
      "execution_count": null,
      "outputs": [
        {
          "output_type": "stream",
          "name": "stdout",
          "text": [
            "Linda 的平均分數為 84.33，評語為「及格」\n",
            "Richard 的平均分數為 83.67，評語為「及格」\n",
            "Una 的平均分數為 87.33，評語為「優秀」\n",
            "Brian 的平均分數為 68.33，評語為「需加強」\n",
            "\n",
            "全班總平均分數為：80.92\n",
            "平均分數最高的學生是 Una，平均為 87.33\n"
          ]
        }
      ]
    },
    {
      "cell_type": "markdown",
      "source": [
        "## 題目四 (25%)\n",
        "\n",
        "我們假設一組有效的密碼必須符合以下條件：\n",
        "\n",
        "- 長度大於 5 個字元\n",
        "- 必須包含：\n",
        "   - 大寫英文字母\n",
        "   - 小寫英文字母\n",
        "   - 數字\n",
        "- 不可以有空白  \n",
        "<br/>\n",
        "\n",
        "### 任務內容\n",
        "1. 請針對以上條件，撰寫一個函數 `check_password()`，判斷傳入的字串是否為有效密碼。如果輸入為有效密碼，函數將回傳 `Valid Password`；如果是無效密碼，函數回傳 `INVALID`。\n",
        "2. 請使用你的函數印出以下結果  \n",
        "```\n",
        "check_password(\"GenAI4Humanities\")\n",
        "check_password(\"genai4humanities\")\n",
        "check_password(\"GENAI4HUMANITIES\")\n",
        "check_password(\"GenAIGenAI\")\n",
        "check_password(\"GenAI 2025\")\n",
        "check_password(\"GenAI\")\n",
        "```"
      ],
      "metadata": {
        "id": "zSAycbMmZ_Ur"
      }
    },
    {
      "cell_type": "code",
      "source": [
        "def check_password(pw):\n",
        "    if len(pw) <= 5:\n",
        "        return \"INVALID\"\n",
        "    if not any(c.isupper() for c in pw):\n",
        "        return \"INVALID\"\n",
        "    if not any(c.islower() for c in pw):\n",
        "        return \"INVALID\"\n",
        "    if not any(c.isdigit() for c in pw):\n",
        "        return \"INVALID\"\n",
        "    if any(c.isspace() for c in pw):\n",
        "        return \"INVALID\"\n",
        "    return \"Valid Password\"\n",
        "\n",
        "# 測試並印出結果\n",
        "print(\"GenAI4Humanities:\", check_password(\"GenAI4Humanities\"))\n",
        "print(\"genai4humanities:\", check_password(\"genai4humanities\"))\n",
        "print(\"GENAI4HUMANITIES:\", check_password(\"GENAI4HUMANITIES\"))\n",
        "print(\"GenAIGenAI:\", check_password(\"GenAIGenAI\"))\n",
        "print(\"GenAI 2025:\", check_password(\"GenAI 2025\"))\n",
        "print(\"GenAI:\", check_password(\"GenAI\"))"
      ],
      "metadata": {
        "id": "tvYzrt9BaDkr",
        "colab": {
          "base_uri": "https://localhost:8080/"
        },
        "outputId": "96f11c71-49f5-4a00-feef-09fc3193da43"
      },
      "execution_count": null,
      "outputs": [
        {
          "output_type": "stream",
          "name": "stdout",
          "text": [
            "GenAI4Humanities: Valid Password\n",
            "genai4humanities: INVALID\n",
            "GENAI4HUMANITIES: INVALID\n",
            "GenAIGenAI: INVALID\n",
            "GenAI 2025: INVALID\n",
            "GenAI: INVALID\n"
          ]
        }
      ]
    }
  ]
}
